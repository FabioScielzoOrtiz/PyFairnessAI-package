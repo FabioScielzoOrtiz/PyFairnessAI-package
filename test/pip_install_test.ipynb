{
 "cells": [
  {
   "cell_type": "code",
   "execution_count": 1,
   "metadata": {},
   "outputs": [
    {
     "name": "stdout",
     "output_type": "stream",
     "text": [
      "Requirement already satisfied: PyFairnessAI in c:\\users\\fscielzo\\appdata\\local\\programs\\python\\python312\\lib\\site-packages (0.0.1)\n",
      "Collecting PyFairnessAI\n",
      "  Using cached PyFairnessAI-0.0.29-py3-none-any.whl.metadata (660 bytes)\n",
      "Requirement already satisfied: pandas in c:\\users\\fscielzo\\appdata\\local\\programs\\python\\python312\\lib\\site-packages (from PyFairnessAI) (2.1.4)\n",
      "Requirement already satisfied: numpy in c:\\users\\fscielzo\\appdata\\local\\programs\\python\\python312\\lib\\site-packages (from PyFairnessAI) (1.26.4)\n",
      "Requirement already satisfied: aif360 in c:\\users\\fscielzo\\appdata\\local\\programs\\python\\python312\\lib\\site-packages (from PyFairnessAI) (0.6.1)\n",
      "Requirement already satisfied: scipy>=1.2.0 in c:\\users\\fscielzo\\appdata\\local\\programs\\python\\python312\\lib\\site-packages (from aif360->PyFairnessAI) (1.11.3)\n",
      "Requirement already satisfied: scikit-learn>=1.0 in c:\\users\\fscielzo\\appdata\\local\\programs\\python\\python312\\lib\\site-packages (from aif360->PyFairnessAI) (1.3.1)\n",
      "Requirement already satisfied: matplotlib in c:\\users\\fscielzo\\appdata\\local\\programs\\python\\python312\\lib\\site-packages (from aif360->PyFairnessAI) (3.8.0)\n",
      "Requirement already satisfied: python-dateutil>=2.8.2 in c:\\users\\fscielzo\\appdata\\roaming\\python\\python312\\site-packages (from pandas->PyFairnessAI) (2.8.2)\n",
      "Requirement already satisfied: pytz>=2020.1 in c:\\users\\fscielzo\\appdata\\local\\programs\\python\\python312\\lib\\site-packages (from pandas->PyFairnessAI) (2023.3.post1)\n",
      "Requirement already satisfied: tzdata>=2022.1 in c:\\users\\fscielzo\\appdata\\local\\programs\\python\\python312\\lib\\site-packages (from pandas->PyFairnessAI) (2023.3)\n",
      "Requirement already satisfied: six>=1.5 in c:\\users\\fscielzo\\appdata\\roaming\\python\\python312\\site-packages (from python-dateutil>=2.8.2->pandas->PyFairnessAI) (1.16.0)\n",
      "Requirement already satisfied: joblib>=1.1.1 in c:\\users\\fscielzo\\appdata\\local\\programs\\python\\python312\\lib\\site-packages (from scikit-learn>=1.0->aif360->PyFairnessAI) (1.3.2)\n",
      "Requirement already satisfied: threadpoolctl>=2.0.0 in c:\\users\\fscielzo\\appdata\\local\\programs\\python\\python312\\lib\\site-packages (from scikit-learn>=1.0->aif360->PyFairnessAI) (3.2.0)\n",
      "Requirement already satisfied: contourpy>=1.0.1 in c:\\users\\fscielzo\\appdata\\local\\programs\\python\\python312\\lib\\site-packages (from matplotlib->aif360->PyFairnessAI) (1.2.1)\n",
      "Requirement already satisfied: cycler>=0.10 in c:\\users\\fscielzo\\appdata\\local\\programs\\python\\python312\\lib\\site-packages (from matplotlib->aif360->PyFairnessAI) (0.12.1)\n",
      "Requirement already satisfied: fonttools>=4.22.0 in c:\\users\\fscielzo\\appdata\\local\\programs\\python\\python312\\lib\\site-packages (from matplotlib->aif360->PyFairnessAI) (4.43.1)\n",
      "Requirement already satisfied: kiwisolver>=1.0.1 in c:\\users\\fscielzo\\appdata\\local\\programs\\python\\python312\\lib\\site-packages (from matplotlib->aif360->PyFairnessAI) (1.4.5)\n",
      "Requirement already satisfied: packaging>=20.0 in c:\\users\\fscielzo\\appdata\\roaming\\python\\python312\\site-packages (from matplotlib->aif360->PyFairnessAI) (23.2)\n",
      "Requirement already satisfied: pillow>=6.2.0 in c:\\users\\fscielzo\\appdata\\local\\programs\\python\\python312\\lib\\site-packages (from matplotlib->aif360->PyFairnessAI) (10.0.1)\n",
      "Requirement already satisfied: pyparsing>=2.3.1 in c:\\users\\fscielzo\\appdata\\local\\programs\\python\\python312\\lib\\site-packages (from matplotlib->aif360->PyFairnessAI) (3.1.1)\n",
      "Using cached PyFairnessAI-0.0.29-py3-none-any.whl (11 kB)\n",
      "Installing collected packages: PyFairnessAI\n",
      "  Attempting uninstall: PyFairnessAI\n",
      "    Found existing installation: PyFairnessAI 0.0.1\n",
      "    Uninstalling PyFairnessAI-0.0.1:\n",
      "      Successfully uninstalled PyFairnessAI-0.0.1\n",
      "Successfully installed PyFairnessAI-0.0.29\n",
      "Note: you may need to restart the kernel to use updated packages.\n"
     ]
    }
   ],
   "source": [
    "pip install PyFairnessAI --upgrade"
   ]
  },
  {
   "cell_type": "code",
   "execution_count": 2,
   "metadata": {},
   "outputs": [
    {
     "name": "stdout",
     "output_type": "stream",
     "text": [
      "Name: PyFairnessAI\n",
      "Version: 0.0.29\n",
      "Summary: A Python package for fairness in AI and Machine Learning.\n",
      "Home-page: https://github.com/FabioScielzoOrtiz/PyFairnessAI-package\n",
      "Author: Fabio Scielzo Ortiz\n",
      "Author-email: fabio.scielzoortiz@gmail.com\n",
      "License: \n",
      "Location: c:\\Users\\fscielzo\\AppData\\Local\\Programs\\Python\\Python312\\Lib\\site-packages\n",
      "Requires: aif360, numpy, pandas\n",
      "Required-by: \n",
      "Note: you may need to restart the kernel to use updated packages.\n"
     ]
    }
   ],
   "source": [
    "pip show PyFairnessAI"
   ]
  }
 ],
 "metadata": {
  "kernelspec": {
   "display_name": "Python 3",
   "language": "python",
   "name": "python3"
  },
  "language_info": {
   "codemirror_mode": {
    "name": "ipython",
    "version": 3
   },
   "file_extension": ".py",
   "mimetype": "text/x-python",
   "name": "python",
   "nbconvert_exporter": "python",
   "pygments_lexer": "ipython3",
   "version": "3.12.0"
  }
 },
 "nbformat": 4,
 "nbformat_minor": 2
}
